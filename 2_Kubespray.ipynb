{
 "cells": [
  {
   "cell_type": "code",
   "execution_count": null,
   "metadata": {},
   "outputs": [],
   "source": [
    "\"\"\"\n",
    "for i in 0; do\n",
    "  gcloud compute instances create controller-${i} \\\n",
    "    --async \\\n",
    "    --boot-disk-size 200GB \\\n",
    "    --can-ip-forward \\\n",
    "    --image-family ubuntu-2204-lts \\\n",
    "    --image-project ubuntu-os-cloud \\\n",
    "    --machine-type e2-standard-2 \\\n",
    "    --private-network-ip 10.240.0.1${i} \\\n",
    "    --scopes compute-rw,storage-ro,service-management,service-control,logging-write,monitoring \\\n",
    "    --subnet kubernetes \\\n",
    "    --tags kubernetes-the-kubespray-way,controller\n",
    "done\n",
    "\n",
    "\"\"\""
   ]
  },
  {
   "cell_type": "code",
   "execution_count": null,
   "metadata": {},
   "outputs": [],
   "source": [
    "\n",
    "\"\"\"\n",
    "for i in 0 1; do\n",
    "  gcloud compute instances create worker-${i} \\\n",
    "    --async \\\n",
    "    --boot-disk-size 200GB \\\n",
    "    --can-ip-forward \\\n",
    "    --image-family ubuntu-2204-lts \\\n",
    "    --image-project ubuntu-os-cloud \\\n",
    "    --machine-type e2-standard-2 \\\n",
    "    --private-network-ip 10.240.0.2${i} \\\n",
    "    --scopes compute-rw,storage-ro,service-management,service-control,logging-write,monitoring \\\n",
    "    --subnet kubernetes \\\n",
    "    --tags kubernetes-the-kubespray-way,worker\n",
    "done\n",
    "\"\"\""
   ]
  },
  {
   "cell_type": "markdown",
   "metadata": {},
   "source": []
  }
 ],
 "metadata": {
  "language_info": {
   "name": "python"
  },
  "orig_nbformat": 4
 },
 "nbformat": 4,
 "nbformat_minor": 2
}

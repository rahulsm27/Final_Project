{
 "cells": [
  {
   "cell_type": "code",
   "execution_count": 9,
   "metadata": {},
   "outputs": [
    {
     "name": "stderr",
     "output_type": "stream",
     "text": [
      "/Library/Frameworks/Python.framework/Versions/3.11/lib/python3.11/site-packages/kfp/dsl/component_decorator.py:119: FutureWarning: Python 3.7 has reached end-of-life. The default base_image used by the @dsl.component decorator will switch from 'python:3.7' to 'python:3.8' on April 23, 2024. To ensure your existing components work with versions of the KFP SDK released after that date, you should provide an explicit base_image argument and ensure your component works as intended on Python 3.8.\n",
      "  return component_factory.create_component_from_func(\n"
     ]
    }
   ],
   "source": [
    "from kfp import dsl\n",
    "\n",
    "@dsl.component\n",
    "def say_hello(name: str) -> str:\n",
    "    hello_text = f'Hello, {name}!'\n",
    "    print(hello_text)\n",
    "    return hello_text\n",
    "\n",
    "@dsl.pipeline\n",
    "def hello_pipeline(recipient: str) -> str:\n",
    "    hello_task = say_hello(name=recipient)\n",
    "    return hello_task.output"
   ]
  },
  {
   "cell_type": "code",
   "execution_count": 10,
   "metadata": {},
   "outputs": [],
   "source": [
    "from kfp import compiler\n",
    "\n",
    "compiler.Compiler().compile(hello_pipeline, 'pipeline.yaml')"
   ]
  },
  {
   "cell_type": "code",
   "execution_count": null,
   "metadata": {},
   "outputs": [],
   "source": [
    "## https://github.com/vishwanathprudhivi/kubeflow_practice/blob/main/service_account_config.sh\n",
    "\n",
    "# # create a GCP service account; format of account is email address\n",
    "# SA_EMAIL=$(gcloud iam service-accounts --format='value(email)' create k8s-gcr-auth-ro)\n",
    "# # create the json key file and associate it with the service account\n",
    "# gcloud iam service-accounts keys create k8s-gcr-auth-ro.json --iam-account=$SA_EMAIL\n",
    "# # get the project id\n",
    "# PROJECT=$(gcloud config list core/project --format='value(core.project)')\n",
    "# # add the IAM policy binding for the defined project and service account\n",
    "# gcloud projects add-iam-policy-binding $PROJECT --member serviceAccount:$SA_EMAIL --role roles/storage.objectViewer\n",
    "\n",
    "# SECRETNAME=kfptest \n",
    "\n",
    "# kubectl create secret docker-registry $SECRETNAME \\\n",
    "#   --docker-server=https://gcr.io \\\n",
    "#   --docker-username=_json_key \\\n",
    "#   --docker-email=user@example.com \\\n",
    "#   --docker-password=\"$(cat k8s-gcr-auth-ro.json)\"\n",
    "\n",
    "# SECRETNAME=kfptest\n",
    "\n",
    "# kubectl patch serviceaccount default \\\n",
    "#   -p \"{\\\"imagePullSecrets\\\": [{\\\"name\\\": \\\"$SECRETNAME\\\"}]}\"\n",
    "\n",
    "\n",
    "# create a service account with name user-gcp-sa\n",
    "# gcloud iam service-accounts keys create application_default_credentials.json \\\n",
    "#   --iam-account user-gcp-sa@mlendtoend.iam.gserviceaccount.com\n",
    "\n",
    "# kubectl create secret -n kubeflow generic user-gcp-sa \\\n",
    "#   --from-file=user-gcp-sa.json=application_default_credentials.json\n",
    "\n",
    "# Make the container public\n",
    "# all gcr.io are stored in below cloud storage\n",
    "#gsutil iam ch allUsers:objectViewer gs://artifacts.mlendtoend.appspot.com\n",
    "\n"
   ]
  },
  {
   "cell_type": "code",
   "execution_count": null,
   "metadata": {},
   "outputs": [],
   "source": [
    "\"\"\"\n",
    "SECRETNAME=kfptest1 \n",
    "\n",
    "kubectl create secret docker-registry $SECRETNAME \\\n",
    "  --docker-server=https://asia-south1-docker.pkg.dev \\\n",
    "  --docker-username=_json_key \\\n",
    "  --docker-email=user@example.com \\\n",
    "  --docker-password=\"$(cat k8s-gcr-auth-ro.json)\"\n",
    "\n",
    "# SECRETNAME=kfptest1\n",
    "\n",
    "kubectl patch serviceaccount default \\\n",
    "   -p \"{\\\"imagePullSecrets\\\": [{\\\"name\\\": \\\"$SECRETNAME\\\"}]}\"\n",
    "\n",
    "\n",
    "kubectl delete secret gcr-json-key   \n",
    "\n",
    "kubectl patch serviceaccount default \\\n",
    "-p '{\"imagePullSecrets\": [{\"name\": \"gcr-json-key\"}]}'\n",
    "\n",
    "\n",
    "kubectl create -n kubeflow secret docker-registry gcr-json-key \\\n",
    "  --docker-server=https://asia-south1-docker.pkg.dev \\\n",
    "  --docker-username=_json_key \\\n",
    "  --docker-password=\"$(cat secret.json)\" \\\n",
    "  --docker-email=rahulsm.27@gmail.email\n",
    "\n",
    "\n",
    "kubectl patch serviceaccount pipeline-runner -n kubeflow \\\n",
    "-p '{\"imagePullSecrets\": [{\"name\": \"gcr-json-key\"}]}'  \n",
    "\n",
    "kubectl create secret -n kubeflow generic user-gcp-sa \\\n",
    "  --from-file=user-gcp-sa.json=secret.json\n",
    "  \"\"\""
   ]
  },
  {
   "cell_type": "code",
   "execution_count": null,
   "metadata": {},
   "outputs": [],
   "source": [
    "# kubectl get pods -n kubeflow\n",
    "# kubectl logs -n kubeflow basic-pipeline-96bcv-3491385695 \n",
    "# kubectl logs -n kubeflow basic-pipeline-5tmwc-2742550803\n",
    "\n",
    "\n",
    "# pipeline id and run id are different\n",
    "# pipeline list  kfp pipeline list\n",
    "\n",
    "## GET run id from ui\n",
    "# kfp run get db25444a-e996-42d0-8c80-346f7408208a -d  \n",
    "\n",
    "## TO GET detailed logs\n",
    "#kubectl describe pods -n kubeflow basic-pipeline-95nhj-2223444126 \n",
    "\n",
    "#kubectl get role,rolebinding,serviceaccount\n",
    "#kubectl get secrets\n",
    "#kubectl describe sa default\n",
    "\n",
    "#kubectl edit serviceaccount pipeline-runner -n kubeflow\n",
    "\n",
    "#kubectl describe serviceaccount pipeline-runner -n kubeflow\n",
    "\n",
    "\n"
   ]
  },
  {
   "cell_type": "code",
   "execution_count": null,
   "metadata": {},
   "outputs": [],
   "source": [
    "# https://sebastianscotti.medium.com/understanding-google-container-registry-in-gke-312eae6f6ce7\n",
    "\n",
    "#https://googlecloudplatform.github.io/kubeflow-gke-docs/dev/docs/pipelines/authentication-pipelines/#google-service-account-keys-stored-as-kubernetes-secrets"
   ]
  },
  {
   "cell_type": "code",
   "execution_count": null,
   "metadata": {},
   "outputs": [],
   "source": [
    "28\n",
    "\"\"\"\n",
    "docker run -e GOOGLE_APPLICATION_CREDENTIALS=/Users/rahulmahajan/Desktop/Projects/mlendtoend-e4bd3e9b03c7.json -v $GOOGLE_APPLICATION_CREDENTIALS:/tmp/keys/mlendtoend.json:ro gcr.io/mlendtoend/load_data\n",
    "\n",
    "\"\"\"\n"
   ]
  },
  {
   "cell_type": "code",
   "execution_count": 7,
   "metadata": {},
   "outputs": [],
   "source": [
    "# import argparse\n",
    "# from google.cloud import storage\n",
    "# def gcp_csv_to_df(bucket_name, source_file_name):\n",
    "#     '''\n",
    "#     function that downloads a csv file located in\n",
    "#     a GCS bucket into the local instance\n",
    "   \n",
    "#     Parameters: \n",
    "#       bucket_name (str): name of the GCS bucket\n",
    "#                          that contains the data\n",
    "#       source_file_name (str): file path of the \n",
    "#                          csv data           \n",
    "#     Returns:      \n",
    "#       pd.DataFrame() : data loaded in a pandas df\n",
    "#     '''\n",
    "#     storage_client = storage.Client()\n",
    "#     bucket = storage_client.bucket(bucket_name)\n",
    "#     print(bucket)\n",
    "#     blob = bucket.blob(source_file_name)\n",
    "#     data = blob.download_as_string()\n",
    "#     df = pd.read_csv(io.BytesIO(data))\n",
    "#     print(f'Pulled down file from bucket {bucket_name}, file name: {source_file_name}')\n",
    "\n",
    "# gcp_csv_to_df(\"kubeflow_demo\",\"train.csv\")"
   ]
  },
  {
   "cell_type": "code",
   "execution_count": null,
   "metadata": {},
   "outputs": [],
   "source": [
    "# kubectl create -n kubeflow secret docker-registry gcr-json-KeyboardInterrupt--docker-username=myuser --docker-server=https --docker-email=myemail@domain.com   --docker-password=\"$(cat secret.json)\"\n"
   ]
  },
  {
   "cell_type": "code",
   "execution_count": null,
   "metadata": {},
   "outputs": [],
   "source": [
    "\n"
   ]
  }
 ],
 "metadata": {
  "kernelspec": {
   "display_name": "Python 3",
   "language": "python",
   "name": "python3"
  },
  "language_info": {
   "codemirror_mode": {
    "name": "ipython",
    "version": 3
   },
   "file_extension": ".py",
   "mimetype": "text/x-python",
   "name": "python",
   "nbconvert_exporter": "python",
   "pygments_lexer": "ipython3",
   "version": "3.11.3"
  },
  "orig_nbformat": 4
 },
 "nbformat": 4,
 "nbformat_minor": 2
}

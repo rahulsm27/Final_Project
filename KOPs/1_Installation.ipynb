{
 "cells": [
  {
   "cell_type": "code",
   "execution_count": null,
   "metadata": {},
   "outputs": [],
   "source": [
    "# 1 Install Kubectl\n",
    "\n",
    "# https://kubernetes.io/docs/tasks/tools/install-kubectl-macos/#install-kubectl-on-macos\n",
    "\n",
    "curl -LO \"https://dl.k8s.io/release/$(curl -L -s https://dl.k8s.io/release/stable.txt)/bin/darwin/amd64/kubectl\"\n",
    "\n",
    "chmod +x ./kubectl\n",
    "\n",
    "sudo mv ./kubectl /usr/local/bin/kubectl\n",
    "sudo chown root: /usr/local/bin/kubectl\n",
    "\n",
    "kubectl version --client"
   ]
  },
  {
   "cell_type": "code",
   "execution_count": null,
   "metadata": {},
   "outputs": [],
   "source": [
    "# 2 Install Kops\n",
    "\n",
    "https://kops.sigs.k8s.io/getting_started/install/\n",
    "\n",
    "# #brew install kops\n"
   ]
  },
  {
   "cell_type": "code",
   "execution_count": null,
   "metadata": {},
   "outputs": [],
   "source": [
    "# 3 Create bucket \n",
    "\n",
    "gsutil mb gs://kubernetes-clusters-mlendtoend"
   ]
  },
  {
   "cell_type": "markdown",
   "metadata": {},
   "source": [
    "export KOPS_STATE_STORE=gs://kubernetes-clusters-mlendtoend/"
   ]
  },
  {
   "cell_type": "code",
   "execution_count": null,
   "metadata": {},
   "outputs": [],
   "source": [
    "# kops create cluster creates the Cluster object and InstanceGroup object you'll be working with in kOps:\n",
    "\n",
    "PROJECT=$(gcloud config get-value project)\n",
    "kops create cluster simple.k8s.local --zones us-central1-a --state ${KOPS_STATE_STORE}/ --project=${PROJECT}\n",
    "\n",
    "kops update cluster --yes"
   ]
  },
  {
   "cell_type": "code",
   "execution_count": null,
   "metadata": {},
   "outputs": [],
   "source": [
    "#Kubeflow\n",
    "#Download Kubeflow:\n",
    "curl -OL https://github.com/kubeflow/kubeflow/releases/download/v0.6.1/kfctl_v0.6.1_darwin.tar.gz"
   ]
  }
 ],
 "metadata": {
  "language_info": {
   "name": "python"
  },
  "orig_nbformat": 4
 },
 "nbformat": 4,
 "nbformat_minor": 2
}

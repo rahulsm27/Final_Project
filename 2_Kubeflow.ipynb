{
 "cells": [
  {
   "cell_type": "code",
   "execution_count": null,
   "metadata": {},
   "outputs": [],
   "source": [
    "\"\"\"\n",
    "juju add-k8s myk8s\n",
    "\n",
    "juju bootstrap \n",
    "juju add-model kubeflow\n",
    "\n",
    "juju deploy kubeflow --trust\n",
    "\n",
    "kubectl get pods -n kubeflow\n",
    "\n",
    "kubectl -n kubeflow get svc istio-ingressgateway-workload -o jsonpath='{.status.loadBalancer.ingress[0].ip}'\n",
    "\n",
    "# pass the ip obtained above below\n",
    "\n",
    "juju config dex-auth public-url=http://35.200.211.213.nip.io\n",
    "juju config oidc-gatekeeper public-url=http://35.200.211.213.nip.io \n",
    "\n",
    "#http://35.200.211.213.nip.io\n",
    "\n",
    "juju config dex-auth static-username=admin\n",
    "juju config dex-auth static-password=admin\n",
    "\n",
    "\"\"\"\n",
    "\n"
   ]
  }
 ],
 "metadata": {
  "language_info": {
   "name": "python"
  }
 },
 "nbformat": 4,
 "nbformat_minor": 2
}

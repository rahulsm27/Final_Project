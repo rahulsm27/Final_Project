{
 "cells": [
  {
   "cell_type": "markdown",
   "metadata": {},
   "source": [
    "1. PREREQUISITES"
   ]
  },
  {
   "cell_type": "code",
   "execution_count": null,
   "metadata": {},
   "outputs": [],
   "source": [
    "\"\"\" \n",
    "1 Install Kubectl\n",
    "\n",
    "#https://kubernetes.io/docs/tasks/tools/install-kubectl-macos/#install-kubectl-on-macos\n",
    "\n",
    "curl -LO \"https://dl.k8s.io/release/$(curl -L -s https://dl.k8s.io/release/stable.txt)/bin/darwin/amd64/kubectl\"\n",
    "\n",
    "chmod +x ./kubectl\n",
    "\n",
    "sudo mv ./kubectl /usr/local/bin/kubectl\n",
    "sudo chown root: /usr/local/bin/kubectl\n",
    "\n",
    "kubectl version --client\n",
    "\n",
    "\"\"\""
   ]
  },
  {
   "cell_type": "code",
   "execution_count": null,
   "metadata": {},
   "outputs": [],
   "source": [
    "\"\"\"\n",
    "2 Install Kops\n",
    "\n",
    "https://kops.sigs.k8s.io/getting_started/install/\n",
    "\n",
    "# #brew install kops\n",
    "\n",
    "\"\"\""
   ]
  },
  {
   "cell_type": "code",
   "execution_count": null,
   "metadata": {},
   "outputs": [],
   "source": [
    "\"\"\"\n",
    "# 3 Create bucket \n",
    "\n",
    "gsutil mb gs://kubernetes-clusters-mlendtoend\n",
    "\n",
    "\"\"\""
   ]
  },
  {
   "cell_type": "markdown",
   "metadata": {},
   "source": [
    "2. KUBERNETES CLUSTER creation using KOPS"
   ]
  },
  {
   "cell_type": "code",
   "execution_count": null,
   "metadata": {},
   "outputs": [],
   "source": [
    "\"\"\"\n",
    "\n",
    "export KOPS_STATE_STORE=gs://kubernetes-clusters-mlendtoend/\n",
    "kops create cluster # creates the Cluster object and InstanceGroup object you'll be working with in kOps:\n",
    "kops create cluster simple.k8s.local --zones asia-south1-a --state ${KOPS_STATE_STORE}/ --project=${PROJECT}\n",
    "\n",
    "## NOTE - > \n",
    "# Change kubernetes version to 1.26.12 to be compatible with kubeflow\n",
    "# Change machine type as per reuriement\n",
    "\n",
    "Suggestions:\n",
    " * list clusters with: kops get cluster\n",
    " * edit this cluster with: kops edit cluster simple.k8s.local\n",
    " * edit your node instance group: kops edit ig --name=simple.k8s.local nodes-asia-south1-a\n",
    " * edit your control-plane instance group: kops edit ig --name=simple.k8s.local control-plane-asia-south1-a\n",
    "\n",
    "Finally configure your cluster with: kops update cluster --name simple.k8s.local --yes --admin\n",
    "\n",
    "kops update cluster simple.k8s.local\n",
    "kops update cluster simple.k8s.local --yes\n",
    "\n",
    "\n",
    "\n",
    "Suggestions:\n",
    " * validate cluster: kops validate cluster --wait 10m\n",
    " * list nodes: kubectl get nodes --show-labels\n",
    " * ssh to a control-plane node: ssh -i ~/.ssh/id_rsa ubuntu@\n",
    "\n",
    "\n",
    "\n",
    "# Export the config using below\n",
    "kops export kubeconfig --admin\n",
    "\n",
    "\n",
    "kubectl get nodes\n",
    "\n",
    "kubectl version --short\n",
    "\n",
    "\n",
    "\"\"\""
   ]
  },
  {
   "cell_type": "code",
   "execution_count": null,
   "metadata": {},
   "outputs": [],
   "source": [
    "\"\"\"\n",
    "#To delete\n",
    "\n",
    "kops delete cluster simple.k8s.local --yes\n",
    "\n",
    "\"\"\""
   ]
  }
 ],
 "metadata": {
  "language_info": {
   "name": "python"
  }
 },
 "nbformat": 4,
 "nbformat_minor": 2
}

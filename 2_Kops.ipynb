{
 "cells": [
  {
   "cell_type": "code",
   "execution_count": null,
   "metadata": {},
   "outputs": [],
   "source": [
    "\"\"\" \n",
    "1 Install Kubectl\n",
    "\n",
    "#https://kubernetes.io/docs/tasks/tools/install-kubectl-macos/#install-kubectl-on-macos\n",
    "\n",
    "curl -LO \"https://dl.k8s.io/release/$(curl -L -s https://dl.k8s.io/release/stable.txt)/bin/darwin/amd64/kubectl\"\n",
    "\n",
    "chmod +x ./kubectl\n",
    "\n",
    "sudo mv ./kubectl /usr/local/bin/kubectl\n",
    "sudo chown root: /usr/local/bin/kubectl\n",
    "\n",
    "kubectl version --client\n",
    "\n",
    "\"\"\""
   ]
  },
  {
   "cell_type": "code",
   "execution_count": null,
   "metadata": {},
   "outputs": [],
   "source": [
    "\"\"\"\n",
    "2 Install Kops\n",
    "\n",
    "https://kops.sigs.k8s.io/getting_started/install/\n",
    "\n",
    "# #brew install kops\n",
    "\"\"\""
   ]
  },
  {
   "cell_type": "code",
   "execution_count": null,
   "metadata": {},
   "outputs": [],
   "source": [
    "\"\"\"\n",
    "# 3 Create bucket \n",
    "\n",
    "gsutil mb gs://kubernetes-clusters-mlendtoend\n",
    "\n",
    "\"\"\""
   ]
  },
  {
   "cell_type": "markdown",
   "metadata": {},
   "source": []
  },
  {
   "cell_type": "code",
   "execution_count": null,
   "metadata": {},
   "outputs": [],
   "source": [
    "\"\"\"\n",
    "kops create cluster creates the Cluster object and InstanceGroup object you'll be working with in kOps:\n",
    "\n",
    "export KOPS_STATE_STORE=gs://kubernetes-clusters-mlendtoend/\n",
    "\n",
    "PROJECT=$(gcloud config get-value project)\n",
    "kops create cluster simple.k8s.local --zones asia-east1-a --state ${KOPS_STATE_STORE}/ --project=${PROJECT}\n",
    "\n",
    "Suggestions:\n",
    " * list clusters with: kops get cluster\n",
    " * edit this cluster with: kops edit cluster simple.k8s.local\n",
    " * edit your node instance group: kops edit ig --name=simple.k8s.local nodes-asia-east1-a\n",
    " * edit your control-plane instance group: kops edit ig --name=simple.k8s.local control-plane-asia-east1-a\n",
    "\n",
    "Finally configure your cluster with: kops update cluster --name simple.k8s.local --yes --admin\n",
    "\n",
    "kops update cluster simple.k8s.local\n",
    "kops update cluster simple.k8s.local --yes\n",
    "\n",
    "\n",
    "\n",
    "Suggestions:\n",
    " * validate cluster: kops validate cluster --wait 10m\n",
    " * list nodes: kubectl get nodes --show-labels\n",
    " * ssh to a control-plane node: ssh -i ~/.ssh/id_rsa ubuntu@\n",
    "\n",
    "\n",
    "kops delete cluster simple.k8s.local --yes\n",
    "\n",
    "kops export kubeconfig --admin\n",
    "\n",
    "\"\"\""
   ]
  },
  {
   "cell_type": "code",
   "execution_count": null,
   "metadata": {},
   "outputs": [],
   "source": [
    "\"\"\"\n",
    "export PIPELINE_VERSION=2.0.5\n",
    "kubectl apply -k \"github.com/kubeflow/pipelines/manifests/kustomize/cluster-scoped-resources?ref=$PIPELINE_VERSION\"\n",
    "kubectl wait --for condition=established --timeout=60s crd/applications.app.k8s.io\n",
    "kubectl apply -k \"github.com/kubeflow/pipelines/manifests/kustomize/env/dev?ref=$PIPELINE_VERSION\"\n",
    "\n",
    "kubectl describe configmap inverse-proxy-config -n kubeflow | grep googleusercontent.com\n",
    "\"\"\""
   ]
  },
  {
   "cell_type": "code",
   "execution_count": null,
   "metadata": {},
   "outputs": [],
   "source": [
    "\"\"\"\n",
    "\n",
    "\n",
    "# kubectl get nodes\n",
    "# kubectl get all -A\n",
    "# kubectl describe nodes\n",
    "\n",
    "# sudo systemctl restart kubelet\n",
    "# kubectl get services -n kubeflow\n",
    "\n",
    "kfp pipeline list\n",
    "\n",
    "\"\"\""
   ]
  },
  {
   "cell_type": "code",
   "execution_count": null,
   "metadata": {},
   "outputs": [],
   "source": [
    "\"\"\"\n",
    "To create a instance group of spot instances, create your cluster as documented above, then update your instance group to use spot instances by performing the following steps:\n",
    "\n",
    "Run kops edit ig <instance-group-name> to edit the instance group config.\n",
    "Add the key-value pair gcpProvisioningModel: SPOT in the instance group spec:\n",
    "\n",
    "spec:\n",
    "  gcpProvisioningModel: SPOT\n",
    "Run kops update cluster --yes followed by kops rolling-update cluster --yes to update the instance group.\n",
    "You can verify this succeeded on the Google Cloud Platform developer console by navigating to Compute Engine, clicking on your particular node instance (by default it will be named something like nodes-<zone>) to pull up instance details, then under Management > Availability Policy there should be a setting that says VM Provisioning Model: Spot.\n",
    "\n",
    "\"\"\""
   ]
  },
  {
   "cell_type": "code",
   "execution_count": null,
   "metadata": {},
   "outputs": [
    {
     "ename": "",
     "evalue": "",
     "output_type": "error",
     "traceback": [
      "\u001b[1;31mThe kernel failed to start as the Python Environment 'venv' is no longer available. Consider selecting another kernel or refreshing the list of Python Environments."
     ]
    }
   ],
   "source": [
    "client = kfp.Client()"
   ]
  },
  {
   "cell_type": "code",
   "execution_count": null,
   "metadata": {},
   "outputs": [],
   "source": []
  }
 ],
 "metadata": {
  "kernelspec": {
   "display_name": "venv",
   "language": "python",
   "name": "python3"
  },
  "language_info": {
   "name": "python",
   "version": "3.11.5"
  },
  "orig_nbformat": 4
 },
 "nbformat": 4,
 "nbformat_minor": 2
}

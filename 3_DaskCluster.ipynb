{
 "cells": [
  {
   "cell_type": "code",
   "execution_count": null,
   "metadata": {},
   "outputs": [],
   "source": [
    "\"\"\"\n",
    "helm repo add spark-operator https://googlecloudplatform.github.io/spark-on-k8s-operator\n",
    "\n",
    "helm install my-release spark-operator/spark-operator --namespace spark-operator --create-namespace\n",
    "\n",
    "\"\"\""
   ]
  },
  {
   "cell_type": "code",
   "execution_count": null,
   "metadata": {},
   "outputs": [],
   "source": [
    "\"\"\"\n",
    "# edit role to access dask cluster\n",
    "kubectl patch clusterrole kubeflow-kubernetes-edit --type=\"json\" --patch '[{\"op\": \"add\", \"path\": \"/rules/-\", \"value\": {\"apiGroups\": [\"kubernetes.dask.org\"],\"resources\": [\"*\"],\"verbs\": [\"*\"]}}]'\n",
    "\n",
    "\"\"\""
   ]
  },
  {
   "cell_type": "code",
   "execution_count": null,
   "metadata": {},
   "outputs": [],
   "source": [
    "\"\"\"\n",
    "kubectl get daskclusters\n",
    "\n",
    "kubectl get pods -A -l app.kubernetes.io/name=dask-kubernetes-operator\n",
    "\"\"\"\n"
   ]
  }
 ],
 "metadata": {
  "language_info": {
   "name": "python"
  }
 },
 "nbformat": 4,
 "nbformat_minor": 2
}
